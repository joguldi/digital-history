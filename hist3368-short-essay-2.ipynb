{
 "cells": [
  {
   "cell_type": "markdown",
   "metadata": {},
   "source": [
    "# Looking for a keyword-term pair and keyword in Congress"
   ]
  },
  {
   "cell_type": "markdown",
   "metadata": {},
   "source": [
    "How much memory did you allocate for this session?  You will need at least 50 GB."
   ]
  },
  {
   "cell_type": "markdown",
   "metadata": {},
   "source": [
    "#### Import software packages and define helper functions"
   ]
  },
  {
   "cell_type": "code",
   "execution_count": 1,
   "metadata": {},
   "outputs": [],
   "source": [
    "import pandas as pd\n",
    "import csv\n",
    "import matplotlib.pyplot as plt\n",
    "from wordcloud import WordCloud\n",
    "import string\n",
    "import numpy, re\n",
    "from nltk.corpus import wordnet as wn\n",
    "from textblob import TextBlob\n",
    "import nltk"
   ]
  },
  {
   "cell_type": "code",
   "execution_count": 2,
   "metadata": {},
   "outputs": [
    {
     "name": "stdout",
     "output_type": "stream",
     "text": [
      "[nltk_data] Downloading package wordnet to /users/jguldi/nltk_data...\n",
      "[nltk_data]   Package wordnet is already up-to-date!\n"
     ]
    },
    {
     "data": {
      "text/plain": [
       "True"
      ]
     },
     "execution_count": 2,
     "metadata": {},
     "output_type": "execute_result"
    }
   ],
   "source": [
    "nltk.download(\"wordnet\")"
   ]
  },
  {
   "cell_type": "markdown",
   "metadata": {},
   "source": [
    "### Read in the data"
   ]
  },
  {
   "cell_type": "code",
   "execution_count": 3,
   "metadata": {},
   "outputs": [
    {
     "name": "stdout",
     "output_type": "stream",
     "text": [
      "/scratch/group/history/hist_3368-jguldi\n"
     ]
    }
   ],
   "source": [
    "cd /scratch/group/history/hist_3368-jguldi"
   ]
  },
  {
   "cell_type": "code",
   "execution_count": 4,
   "metadata": {},
   "outputs": [],
   "source": [
    "congress = pd.read_csv(\"congress-just-1970-2010.csv\")"
   ]
  },
  {
   "cell_type": "markdown",
   "metadata": {},
   "source": [
    "This might take a minute."
   ]
  },
  {
   "cell_type": "code",
   "execution_count": 5,
   "metadata": {},
   "outputs": [
    {
     "data": {
      "text/html": [
       "<div>\n",
       "<style scoped>\n",
       "    .dataframe tbody tr th:only-of-type {\n",
       "        vertical-align: middle;\n",
       "    }\n",
       "\n",
       "    .dataframe tbody tr th {\n",
       "        vertical-align: top;\n",
       "    }\n",
       "\n",
       "    .dataframe thead th {\n",
       "        text-align: right;\n",
       "    }\n",
       "</style>\n",
       "<table border=\"1\" class=\"dataframe\">\n",
       "  <thead>\n",
       "    <tr style=\"text-align: right;\">\n",
       "      <th></th>\n",
       "      <th>Unnamed: 0</th>\n",
       "      <th>speech</th>\n",
       "      <th>chamber</th>\n",
       "      <th>date</th>\n",
       "      <th>speaker</th>\n",
       "      <th>first_name</th>\n",
       "      <th>last_name</th>\n",
       "      <th>state</th>\n",
       "      <th>year</th>\n",
       "      <th>5yrperiod</th>\n",
       "      <th>index</th>\n",
       "    </tr>\n",
       "  </thead>\n",
       "  <tbody>\n",
       "    <tr>\n",
       "      <th>0</th>\n",
       "      <td>5369522</td>\n",
       "      <td>The second session of the 91st Congress will n...</td>\n",
       "      <td>S</td>\n",
       "      <td>1970-01-19</td>\n",
       "      <td>The PRESIDENT pro tempore</td>\n",
       "      <td>Unknown</td>\n",
       "      <td>Unknown</td>\n",
       "      <td>Unknown</td>\n",
       "      <td>1970</td>\n",
       "      <td>1970.0</td>\n",
       "      <td>5369522</td>\n",
       "    </tr>\n",
       "    <tr>\n",
       "      <th>1</th>\n",
       "      <td>5369523</td>\n",
       "      <td>Mr. President. I suggest the absence of a quorum.</td>\n",
       "      <td>S</td>\n",
       "      <td>1970-01-19</td>\n",
       "      <td>Mr. MANSFIELD</td>\n",
       "      <td>Unknown</td>\n",
       "      <td>MANSFIELD</td>\n",
       "      <td>Unknown</td>\n",
       "      <td>1970</td>\n",
       "      <td>1970.0</td>\n",
       "      <td>5369523</td>\n",
       "    </tr>\n",
       "    <tr>\n",
       "      <th>2</th>\n",
       "      <td>5369524</td>\n",
       "      <td>The clerk will call the roll.</td>\n",
       "      <td>S</td>\n",
       "      <td>1970-01-19</td>\n",
       "      <td>The PRESIDENT pro tempore</td>\n",
       "      <td>Unknown</td>\n",
       "      <td>Unknown</td>\n",
       "      <td>Unknown</td>\n",
       "      <td>1970</td>\n",
       "      <td>1970.0</td>\n",
       "      <td>5369524</td>\n",
       "    </tr>\n",
       "    <tr>\n",
       "      <th>3</th>\n",
       "      <td>5369525</td>\n",
       "      <td>I announce that the Senator from Connecticut ....</td>\n",
       "      <td>S</td>\n",
       "      <td>1970-01-19</td>\n",
       "      <td>Mr. KENNEDY</td>\n",
       "      <td>Unknown</td>\n",
       "      <td>KENNEDY</td>\n",
       "      <td>Unknown</td>\n",
       "      <td>1970</td>\n",
       "      <td>1970.0</td>\n",
       "      <td>5369525</td>\n",
       "    </tr>\n",
       "    <tr>\n",
       "      <th>4</th>\n",
       "      <td>5369526</td>\n",
       "      <td>I announce that the Senator from Colorado . th...</td>\n",
       "      <td>S</td>\n",
       "      <td>1970-01-19</td>\n",
       "      <td>Mr. GRIFFIN</td>\n",
       "      <td>Unknown</td>\n",
       "      <td>GRIFFIN</td>\n",
       "      <td>Unknown</td>\n",
       "      <td>1970</td>\n",
       "      <td>1970.0</td>\n",
       "      <td>5369526</td>\n",
       "    </tr>\n",
       "    <tr>\n",
       "      <th>...</th>\n",
       "      <td>...</td>\n",
       "      <td>...</td>\n",
       "      <td>...</td>\n",
       "      <td>...</td>\n",
       "      <td>...</td>\n",
       "      <td>...</td>\n",
       "      <td>...</td>\n",
       "      <td>...</td>\n",
       "      <td>...</td>\n",
       "      <td>...</td>\n",
       "      <td>...</td>\n",
       "    </tr>\n",
       "    <tr>\n",
       "      <th>5507434</th>\n",
       "      <td>10876956</td>\n",
       "      <td>Madam Speaker. on rollcall Nos. 662 and 661. I...</td>\n",
       "      <td>E</td>\n",
       "      <td>2010-12-22</td>\n",
       "      <td>Ms. GRANGER</td>\n",
       "      <td>Unknown</td>\n",
       "      <td>GRANGER</td>\n",
       "      <td>Unknown</td>\n",
       "      <td>2010</td>\n",
       "      <td>2010.0</td>\n",
       "      <td>10876956</td>\n",
       "    </tr>\n",
       "    <tr>\n",
       "      <th>5507435</th>\n",
       "      <td>10876957</td>\n",
       "      <td>Madam Speaker. as I leave Congress as the peop...</td>\n",
       "      <td>E</td>\n",
       "      <td>2010-12-22</td>\n",
       "      <td>Ms. KILPATRICK of Michigan</td>\n",
       "      <td>Unknown</td>\n",
       "      <td>KILPATRICK</td>\n",
       "      <td>Michigan</td>\n",
       "      <td>2010</td>\n",
       "      <td>2010.0</td>\n",
       "      <td>10876957</td>\n",
       "    </tr>\n",
       "    <tr>\n",
       "      <th>5507436</th>\n",
       "      <td>10876958</td>\n",
       "      <td>Madam Speaker. on rolicall No. 658. I was unav...</td>\n",
       "      <td>E</td>\n",
       "      <td>2010-12-22</td>\n",
       "      <td>Mr. HELLER</td>\n",
       "      <td>Unknown</td>\n",
       "      <td>HELLER</td>\n",
       "      <td>Unknown</td>\n",
       "      <td>2010</td>\n",
       "      <td>2010.0</td>\n",
       "      <td>10876958</td>\n",
       "    </tr>\n",
       "    <tr>\n",
       "      <th>5507437</th>\n",
       "      <td>10876959</td>\n",
       "      <td>Madam Speaker. on rollcall No. 658 my flight w...</td>\n",
       "      <td>E</td>\n",
       "      <td>2010-12-22</td>\n",
       "      <td>Mr. PAULSEN</td>\n",
       "      <td>Unknown</td>\n",
       "      <td>PAULSEN</td>\n",
       "      <td>Unknown</td>\n",
       "      <td>2010</td>\n",
       "      <td>2010.0</td>\n",
       "      <td>10876959</td>\n",
       "    </tr>\n",
       "    <tr>\n",
       "      <th>5507438</th>\n",
       "      <td>10876960</td>\n",
       "      <td>Madam Speaker. I wold like to submit the follo...</td>\n",
       "      <td>E</td>\n",
       "      <td>2010-12-22</td>\n",
       "      <td>Mr. HALL of New York</td>\n",
       "      <td>Unknown</td>\n",
       "      <td>HALL</td>\n",
       "      <td>New York</td>\n",
       "      <td>2010</td>\n",
       "      <td>2010.0</td>\n",
       "      <td>10876960</td>\n",
       "    </tr>\n",
       "  </tbody>\n",
       "</table>\n",
       "<p>5507439 rows × 11 columns</p>\n",
       "</div>"
      ],
      "text/plain": [
       "         Unnamed: 0                                             speech  \\\n",
       "0           5369522  The second session of the 91st Congress will n...   \n",
       "1           5369523  Mr. President. I suggest the absence of a quorum.   \n",
       "2           5369524                      The clerk will call the roll.   \n",
       "3           5369525  I announce that the Senator from Connecticut ....   \n",
       "4           5369526  I announce that the Senator from Colorado . th...   \n",
       "...             ...                                                ...   \n",
       "5507434    10876956  Madam Speaker. on rollcall Nos. 662 and 661. I...   \n",
       "5507435    10876957  Madam Speaker. as I leave Congress as the peop...   \n",
       "5507436    10876958  Madam Speaker. on rolicall No. 658. I was unav...   \n",
       "5507437    10876959  Madam Speaker. on rollcall No. 658 my flight w...   \n",
       "5507438    10876960  Madam Speaker. I wold like to submit the follo...   \n",
       "\n",
       "        chamber        date                     speaker first_name  \\\n",
       "0             S  1970-01-19   The PRESIDENT pro tempore    Unknown   \n",
       "1             S  1970-01-19               Mr. MANSFIELD    Unknown   \n",
       "2             S  1970-01-19   The PRESIDENT pro tempore    Unknown   \n",
       "3             S  1970-01-19                 Mr. KENNEDY    Unknown   \n",
       "4             S  1970-01-19                 Mr. GRIFFIN    Unknown   \n",
       "...         ...         ...                         ...        ...   \n",
       "5507434       E  2010-12-22                 Ms. GRANGER    Unknown   \n",
       "5507435       E  2010-12-22  Ms. KILPATRICK of Michigan    Unknown   \n",
       "5507436       E  2010-12-22                  Mr. HELLER    Unknown   \n",
       "5507437       E  2010-12-22                 Mr. PAULSEN    Unknown   \n",
       "5507438       E  2010-12-22        Mr. HALL of New York    Unknown   \n",
       "\n",
       "          last_name     state  year  5yrperiod     index  \n",
       "0           Unknown   Unknown  1970     1970.0   5369522  \n",
       "1         MANSFIELD   Unknown  1970     1970.0   5369523  \n",
       "2           Unknown   Unknown  1970     1970.0   5369524  \n",
       "3           KENNEDY   Unknown  1970     1970.0   5369525  \n",
       "4           GRIFFIN   Unknown  1970     1970.0   5369526  \n",
       "...             ...       ...   ...        ...       ...  \n",
       "5507434     GRANGER   Unknown  2010     2010.0  10876956  \n",
       "5507435  KILPATRICK  Michigan  2010     2010.0  10876957  \n",
       "5507436      HELLER   Unknown  2010     2010.0  10876958  \n",
       "5507437     PAULSEN   Unknown  2010     2010.0  10876959  \n",
       "5507438        HALL  New York  2010     2010.0  10876960  \n",
       "\n",
       "[5507439 rows x 11 columns]"
      ]
     },
     "execution_count": 5,
     "metadata": {},
     "output_type": "execute_result"
    }
   ],
   "source": [
    "congress"
   ]
  },
  {
   "cell_type": "markdown",
   "metadata": {},
   "source": [
    "### Look for one word"
   ]
  },
  {
   "cell_type": "code",
   "execution_count": 8,
   "metadata": {},
   "outputs": [],
   "source": [
    "word1 = \"environmentalist\"\n",
    "\n",
    "contains_word1 = congress[congress['speech'].str.contains(word1)].copy() # search the text for the presence of our keyword "
   ]
  },
  {
   "cell_type": "markdown",
   "metadata": {},
   "source": [
    "### Look for another word"
   ]
  },
  {
   "cell_type": "markdown",
   "metadata": {},
   "source": [
    "Next, let's look in contains_word1 for those speeches that also contain another term, which we'll call *word2*."
   ]
  },
  {
   "cell_type": "code",
   "execution_count": 9,
   "metadata": {},
   "outputs": [],
   "source": [
    "word2 = \"kook\"\n",
    "\n",
    "contains_2words = contains_word1[contains_word1['speech'].str.contains(word2)].copy() # search the text for the presence of our keyword "
   ]
  },
  {
   "cell_type": "markdown",
   "metadata": {},
   "source": [
    "### Filter for a particular period"
   ]
  },
  {
   "cell_type": "code",
   "execution_count": 13,
   "metadata": {},
   "outputs": [
    {
     "data": {
      "text/html": [
       "<div>\n",
       "<style scoped>\n",
       "    .dataframe tbody tr th:only-of-type {\n",
       "        vertical-align: middle;\n",
       "    }\n",
       "\n",
       "    .dataframe tbody tr th {\n",
       "        vertical-align: top;\n",
       "    }\n",
       "\n",
       "    .dataframe thead th {\n",
       "        text-align: right;\n",
       "    }\n",
       "</style>\n",
       "<table border=\"1\" class=\"dataframe\">\n",
       "  <thead>\n",
       "    <tr style=\"text-align: right;\">\n",
       "      <th></th>\n",
       "      <th>Unnamed: 0</th>\n",
       "      <th>speech</th>\n",
       "      <th>chamber</th>\n",
       "      <th>date</th>\n",
       "      <th>speaker</th>\n",
       "      <th>first_name</th>\n",
       "      <th>last_name</th>\n",
       "      <th>state</th>\n",
       "      <th>year</th>\n",
       "      <th>5yrperiod</th>\n",
       "      <th>index</th>\n",
       "    </tr>\n",
       "  </thead>\n",
       "  <tbody>\n",
       "    <tr>\n",
       "      <th>109881</th>\n",
       "      <td>5479403</td>\n",
       "      <td>Mr. Speaker. I believe that my colleagues will...</td>\n",
       "      <td>E</td>\n",
       "      <td>1970-08-06</td>\n",
       "      <td>Mr. BURTON of Utah</td>\n",
       "      <td>Unknown</td>\n",
       "      <td>BURTON</td>\n",
       "      <td>Utah</td>\n",
       "      <td>1970</td>\n",
       "      <td>1970.0</td>\n",
       "      <td>5479403</td>\n",
       "    </tr>\n",
       "    <tr>\n",
       "      <th>257847</th>\n",
       "      <td>5627369</td>\n",
       "      <td>Mr. Speaker. in the S. Thompson. is Secretary ...</td>\n",
       "      <td>E</td>\n",
       "      <td>1971-06-30</td>\n",
       "      <td>Mr. HATHAWAY</td>\n",
       "      <td>Unknown</td>\n",
       "      <td>HATHAWAY</td>\n",
       "      <td>Unknown</td>\n",
       "      <td>1971</td>\n",
       "      <td>1970.0</td>\n",
       "      <td>5627369</td>\n",
       "    </tr>\n",
       "    <tr>\n",
       "      <th>403421</th>\n",
       "      <td>5772943</td>\n",
       "      <td>Mr. President. according to the Atomic Industr...</td>\n",
       "      <td>S</td>\n",
       "      <td>1972-05-01</td>\n",
       "      <td>Mr. GRAVEL</td>\n",
       "      <td>Unknown</td>\n",
       "      <td>GRAVEL</td>\n",
       "      <td>Unknown</td>\n",
       "      <td>1972</td>\n",
       "      <td>1970.0</td>\n",
       "      <td>5772943</td>\n",
       "    </tr>\n",
       "  </tbody>\n",
       "</table>\n",
       "</div>"
      ],
      "text/plain": [
       "        Unnamed: 0                                             speech chamber  \\\n",
       "109881     5479403  Mr. Speaker. I believe that my colleagues will...       E   \n",
       "257847     5627369  Mr. Speaker. in the S. Thompson. is Secretary ...       E   \n",
       "403421     5772943  Mr. President. according to the Atomic Industr...       S   \n",
       "\n",
       "              date             speaker first_name last_name    state  year  \\\n",
       "109881  1970-08-06  Mr. BURTON of Utah    Unknown    BURTON     Utah  1970   \n",
       "257847  1971-06-30        Mr. HATHAWAY    Unknown  HATHAWAY  Unknown  1971   \n",
       "403421  1972-05-01          Mr. GRAVEL    Unknown    GRAVEL  Unknown  1972   \n",
       "\n",
       "        5yrperiod    index  \n",
       "109881     1970.0  5479403  \n",
       "257847     1970.0  5627369  \n",
       "403421     1970.0  5772943  "
      ]
     },
     "execution_count": 13,
     "metadata": {},
     "output_type": "execute_result"
    }
   ],
   "source": [
    "bothwords_1period = contains_2words[(contains_2words['year'] < 1975) & (contains_2words['year'] >= 1970)].copy() # search the text for the presence of our keyword \n",
    "bothwords_1period.head() "
   ]
  },
  {
   "cell_type": "code",
   "execution_count": 14,
   "metadata": {},
   "outputs": [
    {
     "data": {
      "text/html": [
       "<div>\n",
       "<style scoped>\n",
       "    .dataframe tbody tr th:only-of-type {\n",
       "        vertical-align: middle;\n",
       "    }\n",
       "\n",
       "    .dataframe tbody tr th {\n",
       "        vertical-align: top;\n",
       "    }\n",
       "\n",
       "    .dataframe thead th {\n",
       "        text-align: right;\n",
       "    }\n",
       "</style>\n",
       "<table border=\"1\" class=\"dataframe\">\n",
       "  <thead>\n",
       "    <tr style=\"text-align: right;\">\n",
       "      <th></th>\n",
       "      <th>Unnamed: 0</th>\n",
       "      <th>speech</th>\n",
       "      <th>chamber</th>\n",
       "      <th>date</th>\n",
       "      <th>speaker</th>\n",
       "      <th>first_name</th>\n",
       "      <th>last_name</th>\n",
       "      <th>state</th>\n",
       "      <th>year</th>\n",
       "      <th>5yrperiod</th>\n",
       "      <th>index</th>\n",
       "    </tr>\n",
       "  </thead>\n",
       "  <tbody>\n",
       "    <tr>\n",
       "      <th>1016481</th>\n",
       "      <td>6386003</td>\n",
       "      <td>Everyone knows the Senator from California is ...</td>\n",
       "      <td>S</td>\n",
       "      <td>1975-10-01</td>\n",
       "      <td>Mr. HOLLINGS</td>\n",
       "      <td>Unknown</td>\n",
       "      <td>HOLLINGS</td>\n",
       "      <td>Unknown</td>\n",
       "      <td>1975</td>\n",
       "      <td>1975.0</td>\n",
       "      <td>6386003</td>\n",
       "    </tr>\n",
       "    <tr>\n",
       "      <th>1119641</th>\n",
       "      <td>6489163</td>\n",
       "      <td>Mr. President. I thank my distinguished collea...</td>\n",
       "      <td>S</td>\n",
       "      <td>1976-04-13</td>\n",
       "      <td>Mr. HOLLINGS</td>\n",
       "      <td>Unknown</td>\n",
       "      <td>HOLLINGS</td>\n",
       "      <td>Unknown</td>\n",
       "      <td>1976</td>\n",
       "      <td>1975.0</td>\n",
       "      <td>6489163</td>\n",
       "    </tr>\n",
       "  </tbody>\n",
       "</table>\n",
       "</div>"
      ],
      "text/plain": [
       "         Unnamed: 0                                             speech  \\\n",
       "1016481     6386003  Everyone knows the Senator from California is ...   \n",
       "1119641     6489163  Mr. President. I thank my distinguished collea...   \n",
       "\n",
       "        chamber        date       speaker first_name last_name    state  year  \\\n",
       "1016481       S  1975-10-01  Mr. HOLLINGS    Unknown  HOLLINGS  Unknown  1975   \n",
       "1119641       S  1976-04-13  Mr. HOLLINGS    Unknown  HOLLINGS  Unknown  1976   \n",
       "\n",
       "         5yrperiod    index  \n",
       "1016481     1975.0  6386003  \n",
       "1119641     1975.0  6489163  "
      ]
     },
     "execution_count": 14,
     "metadata": {},
     "output_type": "execute_result"
    }
   ],
   "source": [
    "bothwords_1period = contains_2words[(contains_2words['year'] < 1980) & (contains_2words['year'] >= 1975)].copy() # search the text for the presence of our keyword \n",
    "bothwords_1period.head() "
   ]
  },
  {
   "cell_type": "markdown",
   "metadata": {},
   "source": [
    "### Compare the results to another search\n",
    "\n",
    "What if we look for how people talked about \"kooks\" when they *weren't* talked about environmentalists in the same period?"
   ]
  },
  {
   "cell_type": "code",
   "execution_count": 28,
   "metadata": {},
   "outputs": [
    {
     "data": {
      "text/html": [
       "<div>\n",
       "<style scoped>\n",
       "    .dataframe tbody tr th:only-of-type {\n",
       "        vertical-align: middle;\n",
       "    }\n",
       "\n",
       "    .dataframe tbody tr th {\n",
       "        vertical-align: top;\n",
       "    }\n",
       "\n",
       "    .dataframe thead th {\n",
       "        text-align: right;\n",
       "    }\n",
       "</style>\n",
       "<table border=\"1\" class=\"dataframe\">\n",
       "  <thead>\n",
       "    <tr style=\"text-align: right;\">\n",
       "      <th></th>\n",
       "      <th>Unnamed: 0</th>\n",
       "      <th>speech</th>\n",
       "      <th>chamber</th>\n",
       "      <th>date</th>\n",
       "      <th>speaker</th>\n",
       "      <th>first_name</th>\n",
       "      <th>last_name</th>\n",
       "      <th>state</th>\n",
       "      <th>year</th>\n",
       "      <th>5yrperiod</th>\n",
       "      <th>index</th>\n",
       "    </tr>\n",
       "  </thead>\n",
       "  <tbody>\n",
       "    <tr>\n",
       "      <th>874720</th>\n",
       "      <td>6244242</td>\n",
       "      <td>OF THE UNITED STATES. The White House. Washing...</td>\n",
       "      <td>E</td>\n",
       "      <td>1975-02-06</td>\n",
       "      <td>The PRESIDENT</td>\n",
       "      <td>Unknown</td>\n",
       "      <td>Unknown</td>\n",
       "      <td>Unknown</td>\n",
       "      <td>1975</td>\n",
       "      <td>1975.0</td>\n",
       "      <td>6244242</td>\n",
       "    </tr>\n",
       "    <tr>\n",
       "      <th>998022</th>\n",
       "      <td>6367544</td>\n",
       "      <td>Mr. Speaker. in recent months Congress and the...</td>\n",
       "      <td>E</td>\n",
       "      <td>1975-09-03</td>\n",
       "      <td>Mr. TEAGUE</td>\n",
       "      <td>Unknown</td>\n",
       "      <td>TEAGUE</td>\n",
       "      <td>Unknown</td>\n",
       "      <td>1975</td>\n",
       "      <td>1975.0</td>\n",
       "      <td>6367544</td>\n",
       "    </tr>\n",
       "    <tr>\n",
       "      <th>1001325</th>\n",
       "      <td>6370847</td>\n",
       "      <td>Mr. Speaker. I would like to take one moment t...</td>\n",
       "      <td>H</td>\n",
       "      <td>1975-09-10</td>\n",
       "      <td>Mr. SYMMS</td>\n",
       "      <td>Unknown</td>\n",
       "      <td>SYMMS</td>\n",
       "      <td>Unknown</td>\n",
       "      <td>1975</td>\n",
       "      <td>1975.0</td>\n",
       "      <td>6370847</td>\n",
       "    </tr>\n",
       "    <tr>\n",
       "      <th>1002486</th>\n",
       "      <td>6372008</td>\n",
       "      <td>Mr. Speaker. I would like to take a moment tod...</td>\n",
       "      <td>E</td>\n",
       "      <td>1975-09-10</td>\n",
       "      <td>Mr. SYMMS</td>\n",
       "      <td>Unknown</td>\n",
       "      <td>SYMMS</td>\n",
       "      <td>Unknown</td>\n",
       "      <td>1975</td>\n",
       "      <td>1975.0</td>\n",
       "      <td>6372008</td>\n",
       "    </tr>\n",
       "    <tr>\n",
       "      <th>1009638</th>\n",
       "      <td>6379160</td>\n",
       "      <td>Mr. Speaker. the obscene and sad gesture by th...</td>\n",
       "      <td>E</td>\n",
       "      <td>1975-09-23</td>\n",
       "      <td>Mr. NIX</td>\n",
       "      <td>Unknown</td>\n",
       "      <td>NIX</td>\n",
       "      <td>Unknown</td>\n",
       "      <td>1975</td>\n",
       "      <td>1975.0</td>\n",
       "      <td>6379160</td>\n",
       "    </tr>\n",
       "  </tbody>\n",
       "</table>\n",
       "</div>"
      ],
      "text/plain": [
       "         Unnamed: 0                                             speech  \\\n",
       "874720      6244242  OF THE UNITED STATES. The White House. Washing...   \n",
       "998022      6367544  Mr. Speaker. in recent months Congress and the...   \n",
       "1001325     6370847  Mr. Speaker. I would like to take one moment t...   \n",
       "1002486     6372008  Mr. Speaker. I would like to take a moment tod...   \n",
       "1009638     6379160  Mr. Speaker. the obscene and sad gesture by th...   \n",
       "\n",
       "        chamber        date        speaker first_name last_name    state  \\\n",
       "874720        E  1975-02-06  The PRESIDENT    Unknown   Unknown  Unknown   \n",
       "998022        E  1975-09-03     Mr. TEAGUE    Unknown    TEAGUE  Unknown   \n",
       "1001325       H  1975-09-10      Mr. SYMMS    Unknown     SYMMS  Unknown   \n",
       "1002486       E  1975-09-10      Mr. SYMMS    Unknown     SYMMS  Unknown   \n",
       "1009638       E  1975-09-23        Mr. NIX    Unknown       NIX  Unknown   \n",
       "\n",
       "         year  5yrperiod    index  \n",
       "874720   1975     1975.0  6244242  \n",
       "998022   1975     1975.0  6367544  \n",
       "1001325  1975     1975.0  6370847  \n",
       "1002486  1975     1975.0  6372008  \n",
       "1009638  1975     1975.0  6379160  "
      ]
     },
     "execution_count": 28,
     "metadata": {},
     "output_type": "execute_result"
    }
   ],
   "source": [
    "word2alone_bothperiods = bothwords_1period = congress[(congress['speech'].str.contains(word2)) & (congress['year'] < 1980) & (congress['year'] >= 1975)].copy() # search the text for the presence of our keyword \n",
    "\n",
    "word2alone_bothperiods.head()"
   ]
  },
  {
   "cell_type": "markdown",
   "metadata": {},
   "source": [
    "### Saving the data as a file"
   ]
  },
  {
   "cell_type": "markdown",
   "metadata": {},
   "source": [
    "As before, we can save the data as a file."
   ]
  },
  {
   "cell_type": "code",
   "execution_count": 8,
   "metadata": {},
   "outputs": [
    {
     "name": "stdout",
     "output_type": "stream",
     "text": [
      "/users/jguldi\n"
     ]
    }
   ],
   "source": [
    "cd ~/"
   ]
  },
  {
   "cell_type": "code",
   "execution_count": 9,
   "metadata": {},
   "outputs": [],
   "source": [
    "contains_word1.to_csv('kwic2.csv')"
   ]
  },
  {
   "cell_type": "markdown",
   "metadata": {},
   "source": [
    "YOU decide which file to save -- bothwords_1period from 1970-75? from 1975-80? the other context?"
   ]
  },
  {
   "cell_type": "markdown",
   "metadata": {},
   "source": [
    "### From CSV file to Microsoft Word Table\n",
    "\n",
    "In the left-hand navigation pane, you should be able to see the new file.  \n",
    "\n",
    "If you do not see a left-hand navigation pane, you probably loaded \"JUPYTER NOTEBOOK\" rather than \"JUPYTER LAB\" in the launch pane on hpc.smu.edu.  Just start a new JUPYTER LAB session from hpc.smu.edu and you should see the file. \n",
    "\n",
    "You can use LEFT CLICK / CONTROL+CLICK with your mouse to select the new file from the left pane.  \n",
    "\n",
    "One of your options is \"download.\"  Select this option to download the file.\n",
    "\n",
    "Next, open Microsoft Excel on your own computer.  Choose FILE > IMPORT.  Tell your computer that you want to import a CSV file.  Then navigate to your downloads folder and find your new file.  If you are asked for any other parameters, choose the default. \n",
    "\n",
    "Once you have the data in Excel, select CTRL+A to highlight everything.  Select CTRL+C to copy it.  \n",
    "\n",
    "Then create a Microsoft Word document and select CTRL+V to paste the new data as a table. \n",
    "\n",
    "You can now format the data however you want."
   ]
  },
  {
   "cell_type": "markdown",
   "metadata": {},
   "source": [
    "### Analyze the speeches"
   ]
  },
  {
   "cell_type": "markdown",
   "metadata": {},
   "source": [
    "We can look just at the 'speech' column from our dataframe *contains_2words*."
   ]
  },
  {
   "cell_type": "code",
   "execution_count": 10,
   "metadata": {},
   "outputs": [
    {
     "data": {
      "text/plain": [
       "109881     Mr. Speaker. I believe that my colleagues will...\n",
       "257847     Mr. Speaker. in the S. Thompson. is Secretary ...\n",
       "403421     Mr. President. according to the Atomic Industr...\n",
       "1016481    Everyone knows the Senator from California is ...\n",
       "1119641    Mr. President. I thank my distinguished collea...\n",
       "3557892    Mr. Speaker. we have been through a very painf...\n",
       "3910393    Mr. President. I thank the distinguished senio...\n",
       "Name: speech, dtype: object"
      ]
     },
     "execution_count": 10,
     "metadata": {},
     "output_type": "execute_result"
    }
   ],
   "source": [
    "contains_2words['speech']"
   ]
  },
  {
   "cell_type": "code",
   "execution_count": 11,
   "metadata": {},
   "outputs": [
    {
     "data": {
      "text/plain": [
       "pandas.core.series.Series"
      ]
     },
     "execution_count": 11,
     "metadata": {},
     "output_type": "execute_result"
    }
   ],
   "source": [
    "type(contains_2words['speech'])"
   ]
  },
  {
   "cell_type": "markdown",
   "metadata": {},
   "source": [
    "A 'Series' is just a fancy list with 'index' numbers (which you see to the left). We can turn the series into a normal list with the command \"to_list()\"."
   ]
  },
  {
   "cell_type": "code",
   "execution_count": 12,
   "metadata": {},
   "outputs": [],
   "source": [
    "listed_speeches = contains_2words['speech'].to_list()"
   ]
  },
  {
   "cell_type": "markdown",
   "metadata": {},
   "source": [
    "look at the first speech."
   ]
  },
  {
   "cell_type": "code",
   "execution_count": 13,
   "metadata": {},
   "outputs": [
    {
     "data": {
      "text/plain": [
       "'Mr. Speaker. I believe that my colleagues will find the following finely detailed article by Theodor'"
      ]
     },
     "execution_count": 13,
     "metadata": {},
     "output_type": "execute_result"
    }
   ],
   "source": [
    "listed_speeches[0][:100]"
   ]
  },
  {
   "cell_type": "markdown",
   "metadata": {},
   "source": [
    "We can use the code from our counting notebook to remove stopwords, lowercase the text, remove punctuation, and count the words. "
   ]
  },
  {
   "cell_type": "markdown",
   "metadata": {},
   "source": [
    "Load stopwords:"
   ]
  },
  {
   "cell_type": "code",
   "execution_count": 18,
   "metadata": {},
   "outputs": [],
   "source": [
    "from nltk.corpus import stopwords\n",
    "\n",
    "stopwords = stopwords.words('english')"
   ]
  },
  {
   "cell_type": "markdown",
   "metadata": {},
   "source": [
    "I am making an extra stopwords list. You will want to add your own to increase the interpretability of the results. The extra word list should contain all words that are likely to occur in other speeches that aren't specifically about kooks and the environment."
   ]
  },
  {
   "cell_type": "code",
   "execution_count": 31,
   "metadata": {},
   "outputs": [],
   "source": [
    "extrawords = ['there', 'say', 'year', 'over', 'get', 'an', 'he', 'up', 'no', 'go', 'about', 'one', 'house', 'gas', 'come', 'state', 'some',\n",
    "              'senator', 'new', 'know', 'more', 'here', 'president', 'make', 'american', 'right', 'want' ,'take', 'think', 'going', 'like', 'let', 'government', 'mr.', 'unite', 'first', 'many', 'committee', 'believe', 'call', 'way', 'see', 'world', 'congress', 'vote', 'tax', 'need', 'senate', \n",
    "              'america', 'member', 'tell', 'back', 'also', 'today', 'point', 'every', 'ask', 'two', 'work,' 'may','must', 'put', 'control',\n",
    "             'house', 'be', 'in', 'have', 'it', 'are', 'on', 'not', 'by', 'wa', 'but', 'do', 'as', 'ha', 'or',\n",
    "              'kind', 'speaker', 'thing', 'much', 'attempt', 'may', 'group', 'chairman', 'raise', 'well', 'look', 'legislation', 'statement', 'expenditure',\n",
    "              'all', 'at', 'have', 'say', 'know', 'go', 'time', 'bill', 'federal', 'country', 'national', 'last', 'get', 'go', 'one', 'come', 'new', 'try', 'say', 'mr', 'state', 'us', 'mr', 'say', 'know', 'use', 'even', 'last', 'come', 'president', 'people', 'years', 'year']"
   ]
  },
  {
   "cell_type": "code",
   "execution_count": 26,
   "metadata": {},
   "outputs": [],
   "source": [
    "lemmas = []\n",
    "\n",
    "for speech in listed_speeches:\n",
    "    speech = speech.replace('\\n', '') # get rid of extra whitespace\n",
    "    for word in speech.lower().split(): # loop through every word\n",
    "        if len(word) > 1: # get rid of short words\n",
    "            for c in string.punctuation: # strip punctuation\n",
    "                word = word.replace(c, \"\") \n",
    "                lemma = wn.morphy(word) # lemmatize\n",
    "                if lemma != None: # get rid of nonetype elements generated by wordnet\n",
    "                    lemmas.append(lemma) # save the good results\n",
    "\n",
    "lemma_count = pd.Series.value_counts(lemmas) # count them"
   ]
  },
  {
   "cell_type": "code",
   "execution_count": 27,
   "metadata": {},
   "outputs": [
    {
     "data": {
      "text/plain": [
       "be                9720\n",
       "in                8793\n",
       "have              5189\n",
       "it                3963\n",
       "are               2681\n",
       "                  ... \n",
       "forum               17\n",
       "ms.                 13\n",
       "attitude            12\n",
       "limb                12\n",
       "misinformation      12\n",
       "Length: 2145, dtype: int64"
      ]
     },
     "execution_count": 27,
     "metadata": {},
     "output_type": "execute_result"
    }
   ],
   "source": [
    "lemma_count"
   ]
  },
  {
   "cell_type": "markdown",
   "metadata": {},
   "source": [
    "It might take a minute. let it run."
   ]
  },
  {
   "cell_type": "code",
   "execution_count": 43,
   "metadata": {},
   "outputs": [
    {
     "data": {
      "text/plain": [
       "tax              1644\n",
       "billion          1551\n",
       "regulation        932\n",
       "oil               908\n",
       "carolina          785\n",
       "senate            767\n",
       "maine             757\n",
       "power             697\n",
       "natural           640\n",
       "american          595\n",
       "increase          582\n",
       "budget            574\n",
       "environmental     544\n",
       "million           537\n",
       "percent           531\n",
       "nuclear           530\n",
       "south             499\n",
       "point             492\n",
       "environment       486\n",
       "warming           485\n",
       "much              480\n",
       "clean             480\n",
       "north             480\n",
       "free              480\n",
       "want              480\n",
       "disc              473\n",
       "moratorium        465\n",
       "public            454\n",
       "water             454\n",
       "control           454\n",
       "industry          453\n",
       "global            448\n",
       "make              448\n",
       "plant             440\n",
       "two               435\n",
       "enterprise        435\n",
       "yankee            420\n",
       "concern           416\n",
       "put               416\n",
       "many              416\n",
       "cause             403\n",
       "back              403\n",
       "revenue           390\n",
       "air               384\n",
       "price             383\n",
       "good              371\n",
       "temperature       371\n",
       "ask               371\n",
       "like              371\n",
       "world             364\n",
       "dtype: int64"
      ]
     },
     "execution_count": 43,
     "metadata": {},
     "output_type": "execute_result"
    }
   ],
   "source": [
    "stopworded = []\n",
    "\n",
    "for i in range(0, len(lemmas)-1):\n",
    "    lemma = lemmas[i]\n",
    "    if lemma not in stopwords:\n",
    "        if lemma not in extrawords:\n",
    "    #for stopword in stopwords: #eliminate stopwords\n",
    "       # if lemma != stopword:  \n",
    "        #    for extraword in extrawords: #eliminate extra words\n",
    "         #       if lemma != extrawords:\n",
    "                    stopworded.append(lemmas[i])\n",
    "\n",
    "stopworded_count = pd.Series.value_counts(stopworded) # count them\n",
    "stopworded_count[:50]"
   ]
  },
  {
   "cell_type": "code",
   "execution_count": 32,
   "metadata": {},
   "outputs": [
    {
     "data": {
      "image/png": "[encoded data removed]",
      "text/plain": [
       "<Figure size 1296x360 with 1 Axes>"
      ]
     },
     "metadata": {
      "needs_background": "light"
     },
     "output_type": "display_data"
    }
   ],
   "source": [
    "# a well-labeled barplot\n",
    "f, ax = plt.subplots(figsize=(18,5))\n",
    "plt.bar(list(stopworded_count[:50].index), stopworded_count[:50])\n",
    "plt.xticks(rotation=90) # this tells Python to 'rotate' the labels on the x axis so that the words fit on the screen\n",
    "plt.savefig('bar.png') # this line tells Python to save a copy in your digital-history folder\n",
    "plt.xlabel('Word') # this line labels the x axis\n",
    "plt.ylabel('Count') # this line labels the y axis\n",
    "plt.suptitle('Words Collocated With KOOK and ENVIRONMENTALIST') #This line labels the title\n",
    "plt.show()"
   ]
  },
  {
   "cell_type": "markdown",
   "metadata": {},
   "source": [
    "Do these words give you a thumbnail understanding of in what context the terms 'kook' and 'environmentalist' appeared together?  If not, adjust the extrawords list and try again!"
   ]
  },
  {
   "cell_type": "markdown",
   "metadata": {},
   "source": [
    "### Compare Your Results to Another Query"
   ]
  },
  {
   "cell_type": "markdown",
   "metadata": {},
   "source": [
    "We can also ask: how did speakers use the word \"kook\" when they *weren't* talking about environmentalists?"
   ]
  },
  {
   "cell_type": "code",
   "execution_count": 33,
   "metadata": {},
   "outputs": [
    {
     "data": {
      "image/png": "[encoded data removed]",
      "text/plain": [
       "<Figure size 1296x360 with 1 Axes>"
      ]
     },
     "metadata": {
      "needs_background": "light"
     },
     "output_type": "display_data"
    }
   ],
   "source": [
    "listed_speeches = word2alone_bothperiods['speech'].to_list()\n",
    "\n",
    "lemmas = []\n",
    "\n",
    "for speech in listed_speeches:\n",
    "    speech = speech.replace('\\n', '') # get rid of extra whitespace\n",
    "    for word in speech.lower().split(): # loop through every word\n",
    "        if len(word) > 1: # get rid of short words\n",
    "            for c in string.punctuation: # strip punctuation\n",
    "                word = word.replace(c, \"\") \n",
    "                lemma = wn.morphy(word) # lemmatize\n",
    "                if lemma != None: # get rid of nonetype elements generated by wordnet\n",
    "                    lemmas.append(lemma) # save the good results\n",
    "\n",
    "lemma_count = pd.Series.value_counts(lemmas) # count them\n",
    "\n",
    "stopworded = []\n",
    "\n",
    "for i in range(0, len(lemmas)-1):\n",
    "    lemma = lemmas[i]\n",
    "    if lemma not in stopwords:\n",
    "        if lemma not in extrawords:\n",
    "    #for stopword in stopwords: #eliminate stopwords\n",
    "       # if lemma != stopword:  \n",
    "        #    for extraword in extrawords: #eliminate extra words\n",
    "         #       if lemma != extrawords:\n",
    "                    stopworded.append(lemmas[i])\n",
    "\n",
    "stopworded_count = pd.Series.value_counts(stopworded) # count them\n",
    "\n",
    "# a well-labeled barplot\n",
    "f, ax = plt.subplots(figsize=(18,5))\n",
    "plt.bar(list(stopworded_count[:50].index), stopworded_count[:50])\n",
    "plt.xticks(rotation=90) # this tells Python to 'rotate' the labels on the x axis so that the words fit on the screen\n",
    "plt.savefig('bar.png') # this line tells Python to save a copy in your digital-history folder\n",
    "plt.xlabel('Word') # this line labels the x axis\n",
    "plt.ylabel('Count') # this line labels the y axis\n",
    "plt.suptitle('Words Collocated With KOOK, 1970-80') #This line labels the title\n",
    "plt.show()"
   ]
  },
  {
   "cell_type": "markdown",
   "metadata": {},
   "source": [
    "Does this allow you to answer the question: did members of Congress *only* or *disproportionately* apply the term 'kook' to environmentalists?   In what other contexts was the word 'kook' used?\n",
    "    \n",
    "What next steps would you take to answer that question? Feel free to tweak the code or add more code here. \n",
    "\n",
    "You might also want to answer the question by looking at the KWIC file generated from the dataframe *word2alone_bothperiods*."
   ]
  },
  {
   "cell_type": "markdown",
   "metadata": {},
   "source": [
    "### Ngrams"
   ]
  },
  {
   "cell_type": "markdown",
   "metadata": {},
   "source": [
    "In what phrases does the term 'kook' appear alongside the keyword 'environmentalist'?"
   ]
  },
  {
   "cell_type": "code",
   "execution_count": 48,
   "metadata": {},
   "outputs": [
    {
     "data": {
      "text/plain": [
       "kookie environmentalists    1\n",
       "kookout Representative      1\n",
       "kooks No                    1\n",
       "kookie regulation           1\n",
       "kooks When                  1\n",
       "gone kooky                  1\n",
       "dtype: int64"
      ]
     },
     "execution_count": 48,
     "metadata": {},
     "output_type": "execute_result"
    }
   ],
   "source": [
    "bigrams = []\n",
    "\n",
    "for speech in listed_speeches:\n",
    "    speech = speech.replace('\\n', '') # get rid of extra whitespace\n",
    "    speech_bigrams = TextBlob(speech).ngrams(n=2)\n",
    "    for bigram in speech_bigrams:\n",
    "            if bigram[0] not in stopwords:\n",
    "                if bigram[1] not in stopwords:\n",
    "                    bigram2 = bigram[0] + ' ' + bigram[1] # call the first word, a space, and the second word into a new string\n",
    "                    if word2 in bigram2:            \n",
    "                        bigrams.append(bigram2)\n",
    "\n",
    "bigram_count = pd.value_counts(bigrams)\n",
    "bigram_count[:20]"
   ]
  },
  {
   "cell_type": "markdown",
   "metadata": {},
   "source": [
    "We could make a barplot, but it won't be very interesting because the bigrams only appear once."
   ]
  },
  {
   "cell_type": "code",
   "execution_count": 54,
   "metadata": {},
   "outputs": [
    {
     "data": {
      "image/png": "[encoded data removed]",
      "text/plain": [
       "<Figure size 432x288 with 1 Axes>"
      ]
     },
     "metadata": {
      "needs_background": "light"
     },
     "output_type": "display_data"
    }
   ],
   "source": [
    "# a well-labeled barplot\n",
    "plt.bar(list(bigram_count[:20].index), bigram_count[:20])\n",
    "plt.xticks(rotation=90) # this tells Python to 'rotate' the labels on the x axis so that the words fit on the screen\n",
    "plt.savefig('bar.png') # this line tells Python to save a copy in your digital-history folder\n",
    "plt.xlabel('Word') # this line labels the x axis\n",
    "plt.ylabel('Count') # this line labels the y axis\n",
    "plt.suptitle('Bigrams where KOOK is used in speeches referring to ENVIRONMENTALIST, 1970-74') #This line labels the title\n",
    "plt.show()"
   ]
  },
  {
   "cell_type": "markdown",
   "metadata": {},
   "source": [
    "Let's compare the results to how members of Congress used the word 'kook' overall during the period 1970-1975:"
   ]
  },
  {
   "cell_type": "code",
   "execution_count": 34,
   "metadata": {},
   "outputs": [
    {
     "data": {
      "text/plain": [
       "kook and            4\n",
       "every kook          4\n",
       "of kooks            3\n",
       "skookum paper       2\n",
       "kooky but           2\n",
       "these kooks         2\n",
       "kooks and           2\n",
       "kooks or            2\n",
       "a skookum           1\n",
       "kooks as            1\n",
       "schooner skookum    1\n",
       "as skookum          1\n",
       "kooks is            1\n",
       "nuts kooks          1\n",
       "some kookie         1\n",
       "gone kooky          1\n",
       "for kooky           1\n",
       "kooks for           1\n",
       "few kooks           1\n",
       "kooky when          1\n",
       "dtype: int64"
      ]
     },
     "execution_count": 34,
     "metadata": {},
     "output_type": "execute_result"
    }
   ],
   "source": [
    "all_congress_bigrams = []\n",
    "\n",
    "for speech in word2alone_bothperiods['speech']:\n",
    "    speech = speech.lower().replace('\\n', '') # get rid of extra whitespace\n",
    "    speech_bigrams = TextBlob(speech).ngrams(n=2)\n",
    "    for bigram in speech_bigrams:\n",
    "            bigram2 = bigram[0] + ' ' + bigram[1] # call the first word, a space, and the second word into a new string\n",
    "            if word2 in bigram2:            \n",
    "                    all_congress_bigrams.append(bigram2)\n",
    "\n",
    "all_congress_bigram_counts = pd.value_counts(all_congress_bigrams)\n",
    "all_congress_bigram_counts[:20]"
   ]
  },
  {
   "cell_type": "markdown",
   "metadata": {},
   "source": [
    "You can adjust the dates (1970, 1975) and term (\"kook\") in the code above to search for bigrams containing your term in different periods."
   ]
  },
  {
   "cell_type": "code",
   "execution_count": 35,
   "metadata": {},
   "outputs": [
    {
     "data": {
      "image/png": "[encoded data removed]",
      "text/plain": [
       "<Figure size 1296x360 with 1 Axes>"
      ]
     },
     "metadata": {
      "needs_background": "light"
     },
     "output_type": "display_data"
    }
   ],
   "source": [
    "# a well-labeled barplot\n",
    "f, ax = plt.subplots(figsize=(18,5))\n",
    "plt.bar(list(all_congress_bigram_counts[:50].index), all_congress_bigram_counts[:50])\n",
    "plt.xticks(rotation=90) # this tells Python to 'rotate' the labels on the x axis so that the words fit on the screen\n",
    "plt.savefig('bar.png') # this line tells Python to save a copy in your digital-history folder\n",
    "plt.xlabel('Word') # this line labels the x axis\n",
    "plt.ylabel('Count') # this line labels the y axis\n",
    "plt.suptitle('Top Bigrams where KOOK is used, 1970-80') #This line labels the title\n",
    "plt.show()"
   ]
  },
  {
   "cell_type": "code",
   "execution_count": null,
   "metadata": {},
   "outputs": [],
   "source": []
  }
 ],
 "metadata": {
  "kernelspec": {
   "display_name": "Python 3",
   "language": "python",
   "name": "python3"
  },
  "language_info": {
   "codemirror_mode": {
    "name": "ipython",
    "version": 3
   },
   "file_extension": ".py",
   "mimetype": "text/x-python",
   "name": "python",
   "nbconvert_exporter": "python",
   "pygments_lexer": "ipython3",
   "version": "3.6.7"
  }
 },
 "nbformat": 4,
 "nbformat_minor": 4
}
