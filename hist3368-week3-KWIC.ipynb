{
 "cells": [
  {
   "attachments": {},
   "cell_type": "markdown",
   "metadata": {},
   "source": [
    "# Hist 3368 - Generating a KWIC for a member of Congress and a keyword\n",
    "\n",
    "#### By Jo Guldi, with code borrowed from the Programming Historian"
   ]
  },
  {
   "cell_type": "markdown",
   "metadata": {},
   "source": [
    "#### Import software packages and define helper functions"
   ]
  },
  {
   "cell_type": "markdown",
   "metadata": {},
   "source": [
    "Most Python scripts will being with a series of commands to \"install\" and \"import\" software packages.\n",
    "\n",
    "Software packages are collections of software instructions, held in the cloud, which users like us borrow as a shortcut so that we don't have to write all the code from scratch.\n",
    "\n",
    "For this exercise, we'll be loading two of the most common software packages -- 'pandas,' which is used to read tabular data (where the data is stored with columns and rows "
   ]
  },
  {
   "cell_type": "code",
   "execution_count": 2,
   "metadata": {},
   "outputs": [],
   "source": [
    "import pandas as pd\n",
    "import csv"
   ]
  },
  {
   "cell_type": "markdown",
   "metadata": {},
   "source": [
    "### Read in the data"
   ]
  },
  {
   "cell_type": "markdown",
   "metadata": {},
   "source": [
    "First, we want to tell the computer to navigate to the course folder, where the data for this course lives.\n",
    "\n",
    "The command \"cd\" tells Python to \"change directory.\"  \"cd\" is followed by a space and the name of a folder."
   ]
  },
  {
   "cell_type": "code",
   "execution_count": 28,
   "metadata": {},
   "outputs": [
    {
     "name": "stdout",
     "output_type": "stream",
     "text": [
      "/scratch/group/history/hist_3368-jguldi\n"
     ]
    }
   ],
   "source": [
    "cd /scratch/group/history/hist_3368-jguldi"
   ]
  },
  {
   "cell_type": "markdown",
   "metadata": {},
   "source": [
    "Next, we tell Python to load the data from a file in the directory.  The name of the file is \"congress-just-1967-2010.csv\".  \"CSV\" is a comma separated value file -- the most common type of file for data analysis; it usually holds data organized in columsns and rows.  The command for loading the data is pd.read_csv()."
   ]
  },
  {
   "cell_type": "code",
   "execution_count": 23,
   "metadata": {},
   "outputs": [],
   "source": [
    "congress = pd.read_csv(\"congress-just-1970-2010.csv\")"
   ]
  },
  {
   "cell_type": "markdown",
   "metadata": {},
   "source": [
    "Let's look at the data.  Run the next cell to inspect our data."
   ]
  },
  {
   "cell_type": "code",
   "execution_count": 45,
   "metadata": {},
   "outputs": [
    {
     "data": {
      "text/html": [
       "<div>\n",
       "<style scoped>\n",
       "    .dataframe tbody tr th:only-of-type {\n",
       "        vertical-align: middle;\n",
       "    }\n",
       "\n",
       "    .dataframe tbody tr th {\n",
       "        vertical-align: top;\n",
       "    }\n",
       "\n",
       "    .dataframe thead th {\n",
       "        text-align: right;\n",
       "    }\n",
       "</style>\n",
       "<table border=\"1\" class=\"dataframe\">\n",
       "  <thead>\n",
       "    <tr style=\"text-align: right;\">\n",
       "      <th></th>\n",
       "      <th>speech</th>\n",
       "      <th>chamber</th>\n",
       "      <th>date</th>\n",
       "      <th>speaker</th>\n",
       "      <th>first_name</th>\n",
       "      <th>last_name</th>\n",
       "      <th>state</th>\n",
       "      <th>year</th>\n",
       "      <th>5yrperiod</th>\n",
       "      <th>index</th>\n",
       "    </tr>\n",
       "  </thead>\n",
       "  <tbody>\n",
       "    <tr>\n",
       "      <th>5369522</th>\n",
       "      <td>The second session of the 91st Congress will n...</td>\n",
       "      <td>S</td>\n",
       "      <td>1970-01-19</td>\n",
       "      <td>The PRESIDENT pro tempore</td>\n",
       "      <td>Unknown</td>\n",
       "      <td>Unknown</td>\n",
       "      <td>Unknown</td>\n",
       "      <td>1970</td>\n",
       "      <td>1970.0</td>\n",
       "      <td>5369522</td>\n",
       "    </tr>\n",
       "    <tr>\n",
       "      <th>5369523</th>\n",
       "      <td>Mr. President. I suggest the absence of a quorum.</td>\n",
       "      <td>S</td>\n",
       "      <td>1970-01-19</td>\n",
       "      <td>Mr. MANSFIELD</td>\n",
       "      <td>Unknown</td>\n",
       "      <td>MANSFIELD</td>\n",
       "      <td>Unknown</td>\n",
       "      <td>1970</td>\n",
       "      <td>1970.0</td>\n",
       "      <td>5369523</td>\n",
       "    </tr>\n",
       "    <tr>\n",
       "      <th>5369524</th>\n",
       "      <td>The clerk will call the roll.</td>\n",
       "      <td>S</td>\n",
       "      <td>1970-01-19</td>\n",
       "      <td>The PRESIDENT pro tempore</td>\n",
       "      <td>Unknown</td>\n",
       "      <td>Unknown</td>\n",
       "      <td>Unknown</td>\n",
       "      <td>1970</td>\n",
       "      <td>1970.0</td>\n",
       "      <td>5369524</td>\n",
       "    </tr>\n",
       "    <tr>\n",
       "      <th>5369525</th>\n",
       "      <td>I announce that the Senator from Connecticut ....</td>\n",
       "      <td>S</td>\n",
       "      <td>1970-01-19</td>\n",
       "      <td>Mr. KENNEDY</td>\n",
       "      <td>Unknown</td>\n",
       "      <td>KENNEDY</td>\n",
       "      <td>Unknown</td>\n",
       "      <td>1970</td>\n",
       "      <td>1970.0</td>\n",
       "      <td>5369525</td>\n",
       "    </tr>\n",
       "    <tr>\n",
       "      <th>5369526</th>\n",
       "      <td>I announce that the Senator from Colorado . th...</td>\n",
       "      <td>S</td>\n",
       "      <td>1970-01-19</td>\n",
       "      <td>Mr. GRIFFIN</td>\n",
       "      <td>Unknown</td>\n",
       "      <td>GRIFFIN</td>\n",
       "      <td>Unknown</td>\n",
       "      <td>1970</td>\n",
       "      <td>1970.0</td>\n",
       "      <td>5369526</td>\n",
       "    </tr>\n",
       "    <tr>\n",
       "      <th>...</th>\n",
       "      <td>...</td>\n",
       "      <td>...</td>\n",
       "      <td>...</td>\n",
       "      <td>...</td>\n",
       "      <td>...</td>\n",
       "      <td>...</td>\n",
       "      <td>...</td>\n",
       "      <td>...</td>\n",
       "      <td>...</td>\n",
       "      <td>...</td>\n",
       "    </tr>\n",
       "    <tr>\n",
       "      <th>10876956</th>\n",
       "      <td>Madam Speaker. on rollcall Nos. 662 and 661. I...</td>\n",
       "      <td>E</td>\n",
       "      <td>2010-12-22</td>\n",
       "      <td>Ms. GRANGER</td>\n",
       "      <td>Unknown</td>\n",
       "      <td>GRANGER</td>\n",
       "      <td>Unknown</td>\n",
       "      <td>2010</td>\n",
       "      <td>2010.0</td>\n",
       "      <td>10876956</td>\n",
       "    </tr>\n",
       "    <tr>\n",
       "      <th>10876957</th>\n",
       "      <td>Madam Speaker. as I leave Congress as the peop...</td>\n",
       "      <td>E</td>\n",
       "      <td>2010-12-22</td>\n",
       "      <td>Ms. KILPATRICK of Michigan</td>\n",
       "      <td>Unknown</td>\n",
       "      <td>KILPATRICK</td>\n",
       "      <td>Michigan</td>\n",
       "      <td>2010</td>\n",
       "      <td>2010.0</td>\n",
       "      <td>10876957</td>\n",
       "    </tr>\n",
       "    <tr>\n",
       "      <th>10876958</th>\n",
       "      <td>Madam Speaker. on rolicall No. 658. I was unav...</td>\n",
       "      <td>E</td>\n",
       "      <td>2010-12-22</td>\n",
       "      <td>Mr. HELLER</td>\n",
       "      <td>Unknown</td>\n",
       "      <td>HELLER</td>\n",
       "      <td>Unknown</td>\n",
       "      <td>2010</td>\n",
       "      <td>2010.0</td>\n",
       "      <td>10876958</td>\n",
       "    </tr>\n",
       "    <tr>\n",
       "      <th>10876959</th>\n",
       "      <td>Madam Speaker. on rollcall No. 658 my flight w...</td>\n",
       "      <td>E</td>\n",
       "      <td>2010-12-22</td>\n",
       "      <td>Mr. PAULSEN</td>\n",
       "      <td>Unknown</td>\n",
       "      <td>PAULSEN</td>\n",
       "      <td>Unknown</td>\n",
       "      <td>2010</td>\n",
       "      <td>2010.0</td>\n",
       "      <td>10876959</td>\n",
       "    </tr>\n",
       "    <tr>\n",
       "      <th>10876960</th>\n",
       "      <td>Madam Speaker. I wold like to submit the follo...</td>\n",
       "      <td>E</td>\n",
       "      <td>2010-12-22</td>\n",
       "      <td>Mr. HALL of New York</td>\n",
       "      <td>Unknown</td>\n",
       "      <td>HALL</td>\n",
       "      <td>New York</td>\n",
       "      <td>2010</td>\n",
       "      <td>2010.0</td>\n",
       "      <td>10876960</td>\n",
       "    </tr>\n",
       "  </tbody>\n",
       "</table>\n",
       "<p>5507439 rows × 10 columns</p>\n",
       "</div>"
      ],
      "text/plain": [
       "                                                     speech chamber  \\\n",
       "5369522   The second session of the 91st Congress will n...       S   \n",
       "5369523   Mr. President. I suggest the absence of a quorum.       S   \n",
       "5369524                       The clerk will call the roll.       S   \n",
       "5369525   I announce that the Senator from Connecticut ....       S   \n",
       "5369526   I announce that the Senator from Colorado . th...       S   \n",
       "...                                                     ...     ...   \n",
       "10876956  Madam Speaker. on rollcall Nos. 662 and 661. I...       E   \n",
       "10876957  Madam Speaker. as I leave Congress as the peop...       E   \n",
       "10876958  Madam Speaker. on rolicall No. 658. I was unav...       E   \n",
       "10876959  Madam Speaker. on rollcall No. 658 my flight w...       E   \n",
       "10876960  Madam Speaker. I wold like to submit the follo...       E   \n",
       "\n",
       "               date                     speaker first_name   last_name  \\\n",
       "5369522  1970-01-19   The PRESIDENT pro tempore    Unknown     Unknown   \n",
       "5369523  1970-01-19               Mr. MANSFIELD    Unknown   MANSFIELD   \n",
       "5369524  1970-01-19   The PRESIDENT pro tempore    Unknown     Unknown   \n",
       "5369525  1970-01-19                 Mr. KENNEDY    Unknown     KENNEDY   \n",
       "5369526  1970-01-19                 Mr. GRIFFIN    Unknown     GRIFFIN   \n",
       "...             ...                         ...        ...         ...   \n",
       "10876956 2010-12-22                 Ms. GRANGER    Unknown     GRANGER   \n",
       "10876957 2010-12-22  Ms. KILPATRICK of Michigan    Unknown  KILPATRICK   \n",
       "10876958 2010-12-22                  Mr. HELLER    Unknown      HELLER   \n",
       "10876959 2010-12-22                 Mr. PAULSEN    Unknown     PAULSEN   \n",
       "10876960 2010-12-22        Mr. HALL of New York    Unknown        HALL   \n",
       "\n",
       "             state  year  5yrperiod     index  \n",
       "5369522    Unknown  1970     1970.0   5369522  \n",
       "5369523    Unknown  1970     1970.0   5369523  \n",
       "5369524    Unknown  1970     1970.0   5369524  \n",
       "5369525    Unknown  1970     1970.0   5369525  \n",
       "5369526    Unknown  1970     1970.0   5369526  \n",
       "...            ...   ...        ...       ...  \n",
       "10876956   Unknown  2010     2010.0  10876956  \n",
       "10876957  Michigan  2010     2010.0  10876957  \n",
       "10876958   Unknown  2010     2010.0  10876958  \n",
       "10876959   Unknown  2010     2010.0  10876959  \n",
       "10876960  New York  2010     2010.0  10876960  \n",
       "\n",
       "[5507439 rows x 10 columns]"
      ]
     },
     "execution_count": 45,
     "metadata": {},
     "output_type": "execute_result"
    }
   ],
   "source": [
    "congress"
   ]
  },
  {
   "cell_type": "markdown",
   "metadata": {},
   "source": [
    "### Look for one speaker"
   ]
  },
  {
   "cell_type": "markdown",
   "metadata": {},
   "source": [
    "Next, we're going to 'filter' congress just for one speaker. "
   ]
  },
  {
   "cell_type": "code",
   "execution_count": 43,
   "metadata": {},
   "outputs": [],
   "source": [
    "congress = all_data[all_data['year']>=1970]"
   ]
  },
  {
   "cell_type": "code",
   "execution_count": 5,
   "metadata": {},
   "outputs": [],
   "source": [
    "one_speaker = congress[congress['speaker'] == \"Mr. STEVENS\"]"
   ]
  },
  {
   "cell_type": "markdown",
   "metadata": {},
   "source": [
    "You can change the word in the quotation marks to search for another speaker, but whatever data you input should match *exactly* the format of the data in the database.\n",
    "\n",
    "For our purposes, the speaker should be one of the following: 'Mr. STEVENS', 'Mr. ROHRABACHER', 'Mr. DUNCAN', 'Ms. FOXX', 'Mr. HATCH', 'Mr. HERGER'.  \n",
    "\n",
    "Try swapping \"Mr. STEVENS\" for another one of these names, in double or single quotation marks.  Then run the line of code again using SHIFT+ENTER/SHIFT+RETURN."
   ]
  },
  {
   "cell_type": "code",
   "execution_count": 14,
   "metadata": {},
   "outputs": [
    {
     "data": {
      "text/html": [
       "<div>\n",
       "<style scoped>\n",
       "    .dataframe tbody tr th:only-of-type {\n",
       "        vertical-align: middle;\n",
       "    }\n",
       "\n",
       "    .dataframe tbody tr th {\n",
       "        vertical-align: top;\n",
       "    }\n",
       "\n",
       "    .dataframe thead th {\n",
       "        text-align: right;\n",
       "    }\n",
       "</style>\n",
       "<table border=\"1\" class=\"dataframe\">\n",
       "  <thead>\n",
       "    <tr style=\"text-align: right;\">\n",
       "      <th></th>\n",
       "      <th>speech</th>\n",
       "      <th>chamber</th>\n",
       "      <th>date</th>\n",
       "      <th>speaker</th>\n",
       "      <th>first_name</th>\n",
       "      <th>last_name</th>\n",
       "      <th>state</th>\n",
       "      <th>year</th>\n",
       "      <th>5yrperiod</th>\n",
       "      <th>index</th>\n",
       "    </tr>\n",
       "  </thead>\n",
       "  <tbody>\n",
       "    <tr>\n",
       "      <th>4691690</th>\n",
       "      <td>Mr. President. I introduce for appropriate ref...</td>\n",
       "      <td>S</td>\n",
       "      <td>1970-01-23</td>\n",
       "      <td>Mr. STEVENS</td>\n",
       "      <td>Unknown</td>\n",
       "      <td>STEVENS</td>\n",
       "      <td>Unknown</td>\n",
       "      <td>1970</td>\n",
       "      <td>1970.0</td>\n",
       "      <td>4691690</td>\n",
       "    </tr>\n",
       "    <tr>\n",
       "      <th>4692540</th>\n",
       "      <td>Mr. President. will the Senator yield?</td>\n",
       "      <td>S</td>\n",
       "      <td>1970-01-26</td>\n",
       "      <td>Mr. STEVENS</td>\n",
       "      <td>Unknown</td>\n",
       "      <td>STEVENS</td>\n",
       "      <td>Unknown</td>\n",
       "      <td>1970</td>\n",
       "      <td>1970.0</td>\n",
       "      <td>4692540</td>\n",
       "    </tr>\n",
       "    <tr>\n",
       "      <th>4692542</th>\n",
       "      <td>As a former U.S. attorney. I want to commend t...</td>\n",
       "      <td>S</td>\n",
       "      <td>1970-01-26</td>\n",
       "      <td>Mr. STEVENS</td>\n",
       "      <td>Unknown</td>\n",
       "      <td>STEVENS</td>\n",
       "      <td>Unknown</td>\n",
       "      <td>1970</td>\n",
       "      <td>1970.0</td>\n",
       "      <td>4692542</td>\n",
       "    </tr>\n",
       "    <tr>\n",
       "      <th>4696348</th>\n",
       "      <td>Mr. President. I send to the desk an amendment...</td>\n",
       "      <td>S</td>\n",
       "      <td>1970-02-02</td>\n",
       "      <td>Mr. STEVENS</td>\n",
       "      <td>Unknown</td>\n",
       "      <td>STEVENS</td>\n",
       "      <td>Unknown</td>\n",
       "      <td>1970</td>\n",
       "      <td>1970.0</td>\n",
       "      <td>4696348</td>\n",
       "    </tr>\n",
       "    <tr>\n",
       "      <th>4696350</th>\n",
       "      <td>Mr. President. Alaskas mountainous coastal geo...</td>\n",
       "      <td>S</td>\n",
       "      <td>1970-02-02</td>\n",
       "      <td>Mr. STEVENS</td>\n",
       "      <td>Unknown</td>\n",
       "      <td>STEVENS</td>\n",
       "      <td>Unknown</td>\n",
       "      <td>1970</td>\n",
       "      <td>1970.0</td>\n",
       "      <td>4696350</td>\n",
       "    </tr>\n",
       "  </tbody>\n",
       "</table>\n",
       "</div>"
      ],
      "text/plain": [
       "                                                    speech chamber       date  \\\n",
       "4691690  Mr. President. I introduce for appropriate ref...       S 1970-01-23   \n",
       "4692540             Mr. President. will the Senator yield?       S 1970-01-26   \n",
       "4692542  As a former U.S. attorney. I want to commend t...       S 1970-01-26   \n",
       "4696348  Mr. President. I send to the desk an amendment...       S 1970-02-02   \n",
       "4696350  Mr. President. Alaskas mountainous coastal geo...       S 1970-02-02   \n",
       "\n",
       "             speaker first_name last_name    state  year  5yrperiod    index  \n",
       "4691690  Mr. STEVENS    Unknown   STEVENS  Unknown  1970     1970.0  4691690  \n",
       "4692540  Mr. STEVENS    Unknown   STEVENS  Unknown  1970     1970.0  4692540  \n",
       "4692542  Mr. STEVENS    Unknown   STEVENS  Unknown  1970     1970.0  4692542  \n",
       "4696348  Mr. STEVENS    Unknown   STEVENS  Unknown  1970     1970.0  4696348  \n",
       "4696350  Mr. STEVENS    Unknown   STEVENS  Unknown  1970     1970.0  4696350  "
      ]
     },
     "execution_count": 14,
     "metadata": {},
     "output_type": "execute_result"
    }
   ],
   "source": [
    "one_speaker.head()"
   ]
  },
  {
   "cell_type": "markdown",
   "metadata": {},
   "source": [
    "### Look for one word"
   ]
  },
  {
   "cell_type": "markdown",
   "metadata": {},
   "source": [
    "Next, let's search the data in the dataframe *one_speaker* for a keyword, 'environmentalist.' \n",
    "\n",
    "The lines of code below create a \"variable\" called \"word1\" whose value is the word \"environmentalist.\"  \n",
    "\n",
    "The next lines search the dataset *one_speaker* for the string contained in the variable *word1.*\n",
    "\n",
    "We create a new dataset called *contains_word1.*  The contents of this new dataset are all the speeches by our speaker where that speaker uses word1 somewhere in the speech."
   ]
  },
  {
   "cell_type": "code",
   "execution_count": 16,
   "metadata": {},
   "outputs": [
    {
     "data": {
      "text/html": [
       "<div>\n",
       "<style scoped>\n",
       "    .dataframe tbody tr th:only-of-type {\n",
       "        vertical-align: middle;\n",
       "    }\n",
       "\n",
       "    .dataframe tbody tr th {\n",
       "        vertical-align: top;\n",
       "    }\n",
       "\n",
       "    .dataframe thead th {\n",
       "        text-align: right;\n",
       "    }\n",
       "</style>\n",
       "<table border=\"1\" class=\"dataframe\">\n",
       "  <thead>\n",
       "    <tr style=\"text-align: right;\">\n",
       "      <th></th>\n",
       "      <th>speech</th>\n",
       "      <th>chamber</th>\n",
       "      <th>date</th>\n",
       "      <th>speaker</th>\n",
       "      <th>first_name</th>\n",
       "      <th>last_name</th>\n",
       "      <th>state</th>\n",
       "      <th>year</th>\n",
       "      <th>5yrperiod</th>\n",
       "      <th>index</th>\n",
       "    </tr>\n",
       "  </thead>\n",
       "  <tbody>\n",
       "    <tr>\n",
       "      <th>5056852</th>\n",
       "      <td>Mr. President. the Senate Commerce Subcommitte...</td>\n",
       "      <td>S</td>\n",
       "      <td>1972-02-14</td>\n",
       "      <td>Mr. STEVENS</td>\n",
       "      <td>Unknown</td>\n",
       "      <td>STEVENS</td>\n",
       "      <td>Unknown</td>\n",
       "      <td>1972</td>\n",
       "      <td>1970.0</td>\n",
       "      <td>5056852</td>\n",
       "    </tr>\n",
       "    <tr>\n",
       "      <th>5139059</th>\n",
       "      <td>Mr. President. the first quarter 1972 issue of...</td>\n",
       "      <td>S</td>\n",
       "      <td>1972-07-31</td>\n",
       "      <td>Mr. STEVENS</td>\n",
       "      <td>Unknown</td>\n",
       "      <td>STEVENS</td>\n",
       "      <td>Unknown</td>\n",
       "      <td>1972</td>\n",
       "      <td>1970.0</td>\n",
       "      <td>5139059</td>\n",
       "    </tr>\n",
       "    <tr>\n",
       "      <th>5225633</th>\n",
       "      <td>Mr. President. those who suggest the oil from ...</td>\n",
       "      <td>S</td>\n",
       "      <td>1973-03-28</td>\n",
       "      <td>Mr. STEVENS</td>\n",
       "      <td>Unknown</td>\n",
       "      <td>STEVENS</td>\n",
       "      <td>Unknown</td>\n",
       "      <td>1973</td>\n",
       "      <td>1970.0</td>\n",
       "      <td>5225633</td>\n",
       "    </tr>\n",
       "    <tr>\n",
       "      <th>5282325</th>\n",
       "      <td>Mr. President. I had hoped to ask the Senator ...</td>\n",
       "      <td>S</td>\n",
       "      <td>1973-07-11</td>\n",
       "      <td>Mr. STEVENS</td>\n",
       "      <td>Unknown</td>\n",
       "      <td>STEVENS</td>\n",
       "      <td>Unknown</td>\n",
       "      <td>1973</td>\n",
       "      <td>1970.0</td>\n",
       "      <td>5282325</td>\n",
       "    </tr>\n",
       "    <tr>\n",
       "      <th>5283156</th>\n",
       "      <td>Not at this time. I would like to be specific....</td>\n",
       "      <td>S</td>\n",
       "      <td>1973-07-12</td>\n",
       "      <td>Mr. STEVENS</td>\n",
       "      <td>Unknown</td>\n",
       "      <td>STEVENS</td>\n",
       "      <td>Unknown</td>\n",
       "      <td>1973</td>\n",
       "      <td>1970.0</td>\n",
       "      <td>5283156</td>\n",
       "    </tr>\n",
       "  </tbody>\n",
       "</table>\n",
       "</div>"
      ],
      "text/plain": [
       "                                                    speech chamber       date  \\\n",
       "5056852  Mr. President. the Senate Commerce Subcommitte...       S 1972-02-14   \n",
       "5139059  Mr. President. the first quarter 1972 issue of...       S 1972-07-31   \n",
       "5225633  Mr. President. those who suggest the oil from ...       S 1973-03-28   \n",
       "5282325  Mr. President. I had hoped to ask the Senator ...       S 1973-07-11   \n",
       "5283156  Not at this time. I would like to be specific....       S 1973-07-12   \n",
       "\n",
       "             speaker first_name last_name    state  year  5yrperiod    index  \n",
       "5056852  Mr. STEVENS    Unknown   STEVENS  Unknown  1972     1970.0  5056852  \n",
       "5139059  Mr. STEVENS    Unknown   STEVENS  Unknown  1972     1970.0  5139059  \n",
       "5225633  Mr. STEVENS    Unknown   STEVENS  Unknown  1973     1970.0  5225633  \n",
       "5282325  Mr. STEVENS    Unknown   STEVENS  Unknown  1973     1970.0  5282325  \n",
       "5283156  Mr. STEVENS    Unknown   STEVENS  Unknown  1973     1970.0  5283156  "
      ]
     },
     "execution_count": 16,
     "metadata": {},
     "output_type": "execute_result"
    }
   ],
   "source": [
    "word1 = \"environmentalist\"\n",
    "\n",
    "contains_word1 = one_speaker[one_speaker['speech'].str.contains(word1)].copy() # search the text for the presence of our keyword \n",
    "\n",
    "contains_word1.head()"
   ]
  },
  {
   "cell_type": "markdown",
   "metadata": {},
   "source": [
    "### Saving the data as a file"
   ]
  },
  {
   "cell_type": "markdown",
   "metadata": {},
   "source": [
    "Finally, let's save our work in a format where we can easily open it in Microsoft Excel and then paste it as a table into Microsoft Word.\n",
    "\n",
    "Microsoft Excel will make it easier to read the full speech. \n",
    "\n",
    "When we work with data, most of the time we save the data as a \"comma separated values\" file, or \"CSV.\"  Excel has no trouble reading CSV files as a normal table.  "
   ]
  },
  {
   "cell_type": "markdown",
   "metadata": {},
   "source": [
    "Use the following command to switch from the \"scratch\" folder, where we got the data, to your home folder.\n",
    "\n",
    "Place your cursor on the box below and press SHIFT+ENTER/SHIFT+RETURN.  Note that the computer tells you that it is looking at a folder with your name in it.  This is your home folder."
   ]
  },
  {
   "cell_type": "code",
   "execution_count": 18,
   "metadata": {},
   "outputs": [
    {
     "name": "stdout",
     "output_type": "stream",
     "text": [
      "/users/jguldi\n"
     ]
    }
   ],
   "source": [
    "cd ~/"
   ]
  },
  {
   "cell_type": "markdown",
   "metadata": {},
   "source": [
    "The next line saves our dataframe, *contains_word1*, as a CSV file with  the name 'kwic.csv'.  \n",
    "\n",
    "Notice that you can call the output file whatever you want.  Just change the name of the file inside the quotation marks."
   ]
  },
  {
   "cell_type": "code",
   "execution_count": 19,
   "metadata": {},
   "outputs": [],
   "source": [
    "contains_word1.to_csv('kwic.csv')"
   ]
  },
  {
   "cell_type": "markdown",
   "metadata": {},
   "source": [
    "In the left-hand navigation pane, you should be able to see the new file.  \n",
    "\n",
    "If you do not see a left-hand navigation pane, you probably loaded \"JUPYTER NOTEBOOK\" rather than \"JUPYTER LAB\" in the launch pane on hpc.smu.edu.  Just start a new JUPYTER LAB session from hpc.smu.edu and you should see the file. "
   ]
  },
  {
   "cell_type": "markdown",
   "metadata": {},
   "source": [
    "### From CSV file to Microsoft Word Table\n",
    "\n",
    "You can use LEFT CLICK / CONTROL+CLICK with your mouse to select the new file from the left pane.  \n",
    "\n",
    "One of your options is \"download.\"  Select this option to download the file.\n",
    "\n",
    "Next, open Microsoft Excel on your own computer.  Choose FILE > IMPORT.  Tell your computer that you want to import a CSV file.  Then navigate to your downloads folder and find your new file.  If you are asked for any other parameters, choose the default. \n",
    "\n",
    "Once you have the data in Excel, select CTRL+A to highlight everything.  Select CTRL+C to copy it.  \n",
    "\n",
    "Then create a Microsoft Word document and select CTRL+V to paste the new data as a table. \n",
    "\n",
    "You can now format the data however you want."
   ]
  },
  {
   "attachments": {},
   "cell_type": "markdown",
   "metadata": {},
   "source": [
    "### The Classic KWIC View"
   ]
  },
  {
   "attachments": {},
   "cell_type": "markdown",
   "metadata": {},
   "source": [
    "The following lines of code work to display a keyword in its context.  \n",
    "\n",
    "Note that we define the variable *word1* again here.  You may change the content of the variable word1 to match any word you're looking for.\n",
    "\n",
    "We also define the variable *n*, which represents the number of words to display before and after word1."
   ]
  },
  {
   "cell_type": "code",
   "execution_count": 2,
   "metadata": {},
   "outputs": [
    {
     "ename": "NameError",
     "evalue": "name 'contains_word1' is not defined",
     "output_type": "error",
     "traceback": [
      "\u001b[0;31m---------------------------------------------------------------------------\u001b[0m",
      "\u001b[0;31mNameError\u001b[0m                                 Traceback (most recent call last)",
      "Cell \u001b[0;32mIn[2], line 22\u001b[0m\n\u001b[1;32m     19\u001b[0m     after_keyword \u001b[39m=\u001b[39m \u001b[39m'\u001b[39m\u001b[39m \u001b[39m\u001b[39m'\u001b[39m\u001b[39m.\u001b[39mjoin(words[keyword_index \u001b[39m+\u001b[39m \u001b[39m2\u001b[39m:keyword_index \u001b[39m+\u001b[39m n \u001b[39m+\u001b[39m \u001b[39m2\u001b[39m]) \u001b[39m# store the words that come after the keyword, up to our specified number \u001b[39;00m\n\u001b[1;32m     20\u001b[0m     \u001b[39mreturn\u001b[39;00m before_keyword \u001b[39m+\u001b[39m \u001b[39m\"\u001b[39m\u001b[39m \u001b[39m\u001b[39m\\033\u001b[39;00m\u001b[39m[1;3m\u001b[39m\u001b[39m\"\u001b[39m \u001b[39m+\u001b[39m word1\u001b[39m.\u001b[39mupper() \u001b[39m+\u001b[39m \u001b[39m\"\u001b[39m\u001b[39m\\033\u001b[39;00m\u001b[39m[0m \u001b[39m\u001b[39m\"\u001b[39m \u001b[39m+\u001b[39m after_keyword \u001b[39m# return the keyword in its context\u001b[39;00m\n\u001b[0;32m---> 22\u001b[0m contains_word1[\u001b[39m'\u001b[39m\u001b[39mcontext\u001b[39m\u001b[39m'\u001b[39m] \u001b[39m=\u001b[39m contains_word1[\u001b[39m'\u001b[39m\u001b[39mspeech\u001b[39m\u001b[39m'\u001b[39m]\u001b[39m.\u001b[39mapply(KWIC_bigram)\n\u001b[1;32m     24\u001b[0m new_df \u001b[39m=\u001b[39m []\n\u001b[1;32m     25\u001b[0m \u001b[39mfor\u001b[39;00m n \u001b[39min\u001b[39;00m \u001b[39mrange\u001b[39m(\u001b[39m0\u001b[39m,\u001b[39mlen\u001b[39m(contains_word1)):\n",
      "\u001b[0;31mNameError\u001b[0m: name 'contains_word1' is not defined"
     ]
    }
   ],
   "source": [
    "word1 = \"environmentalist\"\n",
    "\n",
    "\n",
    "def KWIC_bigram(body):\n",
    "    n = 50 # specify the number of surrounding words to use before and after the keyword\n",
    "    \n",
    "    words = body.split() # split the words into tokens\n",
    "    keyword_index = -1\n",
    "    \n",
    "    # The following for loop iterates through each word in the text. If our keyword is found, the for loop stores its index. \n",
    "    # But, why are we storing the index? As you might remember, the index is a numerical representation of the row's position.\n",
    "    # It can also be thought of as a unique name the computer uses to identify a row. We can call the index to return JUST these rows.\n",
    "    for index, word in enumerate(words): \n",
    "        if index + 1 < len(words) and word1 in (word +  \" \" + words[index + 1]): \n",
    "            keyword_index = index\n",
    "            break\n",
    "    before_keyword = ' '.join(words[max(0, keyword_index - n):keyword_index]) # store the words that come before the keyword, up to our specified number \n",
    "   # keyword = list(words[keyword_index].upper())\n",
    "    after_keyword = ' '.join(words[keyword_index + 2:keyword_index + n + 2]) # store the words that come after the keyword, up to our specified number \n",
    "    return before_keyword + \" \\033[1;3m\" + word1.upper() + \"\\033[0m \" + after_keyword # return the keyword in its context\n",
    "\n",
    "contains_word1['context'] = contains_word1['speech'].apply(KWIC_bigram)\n",
    "\n",
    "new_df = []\n",
    "for n in range(0,len(contains_word1)):\n",
    "    \n",
    "    print(contains_word1['context'].iloc[n])\n",
    "    print(contains_word1['date'].iloc[4])"
   ]
  },
  {
   "cell_type": "markdown",
   "metadata": {},
   "source": []
  }
 ],
 "metadata": {
  "kernelspec": {
   "display_name": "Python 3",
   "language": "python",
   "name": "python3"
  },
  "language_info": {
   "codemirror_mode": {
    "name": "ipython",
    "version": 3
   },
   "file_extension": ".py",
   "mimetype": "text/x-python",
   "name": "python",
   "nbconvert_exporter": "python",
   "pygments_lexer": "ipython3",
   "version": "3.9.10 (main, Feb 25 2022, 18:07:24) \n[Clang 13.0.0 (clang-1300.0.29.30)]"
  },
  "vscode": {
   "interpreter": {
    "hash": "aee8b7b246df8f9039afb4144a1f6fd8d2ca17a180786b69acc140d282b71a49"
   }
  }
 },
 "nbformat": 4,
 "nbformat_minor": 4
}
